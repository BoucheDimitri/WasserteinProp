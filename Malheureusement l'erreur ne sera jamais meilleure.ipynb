{
 "cells": [
  {
   "cell_type": "code",
   "execution_count": 156,
   "metadata": {},
   "outputs": [],
   "source": [
    "import numpy as np\n",
    "import matplotlib.pyplot as plt\n",
    "import scipy.stats as ss\n",
    "import bisect\n",
    "from scipy import spatial\n",
    "\n",
    "import inv_cdfs as icdf\n",
    "import agents_network as anet\n",
    "import utils"
   ]
  },
  {
   "cell_type": "markdown",
   "metadata": {},
   "source": [
    "We start by creating $n$ agents which are in $\\mathbb{R}^p$. These agents are split in two groups, some of them are labelled $y=1$ and others $y=2$."
   ]
  },
  {
   "cell_type": "code",
   "execution_count": 157,
   "metadata": {},
   "outputs": [],
   "source": [
    "npeers, p = 10, 2 # number of agents, dimension\n",
    "nsamples = 10000\n",
    "n1 = int(3*npeers/4)\n",
    "n2 = npeers-n1\n",
    "t, R = 2*np.pi*np.random.randn(n1,1), 2\n",
    "r = R*(1.5 + .2*np.random.randn(n1,1)) # radius\n",
    "X1 = np.hstack((np.cos(t)*r, np.sin(t)*r));\n",
    "X = np.vstack((X1, np.random.randn(n2,2)))\n",
    "y = np.vstack(( np.ones([n1,1]), 2*np.ones([n2,1]) ))\n",
    "\n",
    "\n",
    "X = np.ones((npeers,2))"
   ]
  },
  {
   "cell_type": "markdown",
   "metadata": {},
   "source": [
    "We plot the agents. Those in blue are labelled $y=1$ and in orange are labelled $y=2$."
   ]
  },
  {
   "cell_type": "code",
   "execution_count": 158,
   "metadata": {},
   "outputs": [
    {
     "data": {
      "text/plain": [
       "(0.945, 1.0550000000000002, 0.945, 1.0550000000000002)"
      ]
     },
     "execution_count": 158,
     "metadata": {},
     "output_type": "execute_result"
    },
    {
     "data": {
      "image/png": "[encoded data removed]",
      "text/plain": [
       "<matplotlib.figure.Figure at 0x1e69a4649e8>"
      ]
     },
     "metadata": {},
     "output_type": "display_data"
    }
   ],
   "source": [
    "I = np.nonzero(y==1)[0]\n",
    "J = np.nonzero(y==2)[0]\n",
    "plt.plot(X[I,0], X[I,1], '.')\n",
    "plt.plot(X[J,0], X[J,1], '.')\n",
    "plt.axis('equal')\n",
    "plt.axis('off')"
   ]
  },
  {
   "cell_type": "markdown",
   "metadata": {},
   "source": [
    "The following function generate specific datas for each agent. Depending on their labelled and $\\|x\\|_2$, each agent received data from different distributions."
   ]
  },
  {
   "cell_type": "code",
   "execution_count": 159,
   "metadata": {},
   "outputs": [],
   "source": [
    "def create_data(x, y ,nsamples=1000):\n",
    "    if y==1:\n",
    "        data = np.random.poisson(np.linalg.norm(x), nsamples)\n",
    "    elif y==2:\n",
    "        #data = ss.expon.rvs(np.linalg.norm(x), size=nsamples)\n",
    "        data = np.random.poisson(np.linalg.norm(x), nsamples)\n",
    "        #data = ss.norm.rvs(np.linalg.norm(x), size=nsamples)\n",
    "    else:\n",
    "        print(\"choose y in {1,2}\")\n",
    "    return data"
   ]
  },
  {
   "cell_type": "markdown",
   "metadata": {},
   "source": [
    "We define DATA to be list of data received by each agent. Then, we plot two examples :"
   ]
  },
  {
   "cell_type": "code",
   "execution_count": 160,
   "metadata": {},
   "outputs": [
    {
     "name": "stdout",
     "output_type": "stream",
     "text": [
      "i= 6 et j= 9\n",
      "data for an element of I :  [0 2 2 2 2 3 2 5 0 1]\n",
      "data for an element of J :  [2 0 1 0 0 2 1 1 1 1]\n"
     ]
    }
   ],
   "source": [
    "DATA = [create_data(X[k], y[k], nsamples) for k in range(npeers)]\n",
    "\n",
    "i, j = np.random.choice(I), np.random.choice(J)\n",
    "print('i=', i, 'et j=', j)\n",
    "print('data for an element of I : ', DATA[i][:10])\n",
    "print('data for an element of J : ', DATA[j][:10])"
   ]
  },
  {
   "cell_type": "markdown",
   "metadata": {},
   "source": [
    "We build the similarity matrix."
   ]
  },
  {
   "cell_type": "code",
   "execution_count": 161,
   "metadata": {},
   "outputs": [],
   "source": [
    "def distmat(X, Z):\n",
    "    return spatial.distance.cdist(X,Z)**2\n",
    "\n",
    "def Similarities(X,sigma):\n",
    "    similarities = np.exp( -distmat(X,X)/(2*sigma**2) )\n",
    "    np.fill_diagonal(similarities, 0)\n",
    "    return similarities\n",
    "\n",
    "M = np.zeros((npeers,npeers))\n",
    "for k in range(npeers):\n",
    "    M[k,:] = (y[k]==y).flatten()\n",
    "def Similarities_bis(X,sigma):\n",
    "    a = np.tensordot(np.linalg.norm(X,axis=1),np.ones(npeers),0)\n",
    "    b = np.tensordot(np.ones(npeers),np.linalg.norm(X,axis=1),0)\n",
    "    similarities = np.exp( -abs(a-b)/(2*sigma**2) )\n",
    "    np.fill_diagonal(similarities, 0)\n",
    "    return similarities*M"
   ]
  },
  {
   "cell_type": "markdown",
   "metadata": {},
   "source": [
    "We look the similarity matrix thanks to the functions defines above."
   ]
  },
  {
   "cell_type": "code",
   "execution_count": 162,
   "metadata": {},
   "outputs": [
    {
     "data": {
      "text/plain": [
       "<matplotlib.image.AxesImage at 0x1e69a691f28>"
      ]
     },
     "execution_count": 162,
     "metadata": {},
     "output_type": "execute_result"
    },
    {
     "data": {
      "image/png": "[encoded data removed]",
      "text/plain": [
       "<matplotlib.figure.Figure at 0x1e69a660748>"
      ]
     },
     "metadata": {},
     "output_type": "display_data"
    }
   ],
   "source": [
    "sigma = 0.1\n",
    "W = Similarities(X,sigma)\n",
    "W = Similarities_bis(X,sigma)\n",
    "plt.imshow(W)"
   ]
  },
  {
   "cell_type": "markdown",
   "metadata": {},
   "source": [
    "Now, we define two methods to calculate density functions from datas :"
   ]
  },
  {
   "cell_type": "code",
   "execution_count": 163,
   "metadata": {},
   "outputs": [],
   "source": [
    "def methode_Noyau(data, K=ss.norm.pdf):\n",
    "    nsamples = len(data)\n",
    "    sigma = data.std()\n",
    "    h = sigma/nsamples**(0.2) # thumb rule\n",
    "    densite = lambda y : np.sum([K((y-x)/h) for x in data])/(nsamples*h)\n",
    "    return densite\n",
    "\n",
    "def methode_MC(data):\n",
    "    ensemble_des_valeurs, Nb_occurences = np.unique(data, return_counts=True)\n",
    "    prob =  Nb_occurences/np.sum(Nb_occurences)\n",
    "    return ensemble_des_valeurs, prob"
   ]
  },
  {
   "cell_type": "markdown",
   "metadata": {},
   "source": [
    "We plot the density got from an agent labelled $y=1$."
   ]
  },
  {
   "cell_type": "code",
   "execution_count": 164,
   "metadata": {},
   "outputs": [
    {
     "data": {
      "text/plain": [
       "<matplotlib.legend.Legend at 0x1e69a6f0710>"
      ]
     },
     "execution_count": 164,
     "metadata": {},
     "output_type": "execute_result"
    },
    {
     "data": {
      "image/png": "[encoded data removed]",
      "text/plain": [
       "<matplotlib.figure.Figure at 0x1e69a6a7b00>"
      ]
     },
     "metadata": {},
     "output_type": "display_data"
    }
   ],
   "source": [
    "data = DATA[i]\n",
    "ensemble_des_valeurs, prob = methode_MC(data)\n",
    "plt.scatter(ensemble_des_valeurs, prob, label='Model of distribution')\n",
    "plt.scatter(ensemble_des_valeurs, ss.poisson.pmf(ensemble_des_valeurs,np.linalg.norm(X[i])), label='True')\n",
    "plt.legend()"
   ]
  },
  {
   "cell_type": "markdown",
   "metadata": {},
   "source": [
    "We plot the density got from an agent labelled $y=2$."
   ]
  },
  {
   "cell_type": "code",
   "execution_count": 165,
   "metadata": {},
   "outputs": [
    {
     "data": {
      "text/plain": [
       "<matplotlib.legend.Legend at 0x1e69a759320>"
      ]
     },
     "execution_count": 165,
     "metadata": {},
     "output_type": "execute_result"
    },
    {
     "data": {
      "image/png": "[encoded data removed]",
      "text/plain": [
       "<matplotlib.figure.Figure at 0x1e698faacf8>"
      ]
     },
     "metadata": {},
     "output_type": "display_data"
    }
   ],
   "source": [
    "data = DATA[j]\n",
    "densite = methode_Noyau(data)\n",
    "tt = np.linspace(np.min(data), np.max(data), 25)\n",
    "plt.plot(tt, [densite(t) for t in tt], label='Model of distribution')\n",
    "plt.plot(tt, ss.expon.pdf(tt,np.linalg.norm(X[j])), label='True')\n",
    "plt.legend()"
   ]
  },
  {
   "cell_type": "markdown",
   "metadata": {},
   "source": [
    "Once we have the densities, we need the functions $g_s(v)$. Firstly, we define the cumulative empirical function $F$, and then $g$ represents its inverse. "
   ]
  },
  {
   "cell_type": "code",
   "execution_count": 166,
   "metadata": {},
   "outputs": [],
   "source": [
    "def F(data):\n",
    "    nsamples = len(data)\n",
    "    data_sorted = np.sort(data)\n",
    "    return lambda t : bisect.bisect(data_sorted,t)/nsamples\n",
    "\n",
    "def g(data):\n",
    "    nsamples = len(data)\n",
    "    ensemble_des_valeurs, Nb_occurences = np.unique(data, return_counts=True)\n",
    "    prob_cum = np.cumsum(Nb_occurences)/nsamples\n",
    "    return prob_cum, ensemble_des_valeurs"
   ]
  },
  {
   "cell_type": "markdown",
   "metadata": {},
   "source": [
    "For $u,v$ two neighbors, we plot $g_s(u)$ and $g_s(v)$ :"
   ]
  },
  {
   "cell_type": "code",
   "execution_count": 167,
   "metadata": {},
   "outputs": [
    {
     "data": {
      "text/plain": [
       "<matplotlib.legend.Legend at 0x1e69a77c2b0>"
      ]
     },
     "execution_count": 167,
     "metadata": {},
     "output_type": "execute_result"
    },
    {
     "data": {
      "image/png": "[encoded data removed]",
      "text/plain": [
       "<matplotlib.figure.Figure at 0x1e69a77c320>"
      ]
     },
     "metadata": {},
     "output_type": "display_data"
    }
   ],
   "source": [
    "G = [g(data) for data in DATA]\n",
    "u = np.random.randint(npeers)\n",
    "v = np.argmax(W[u])\n",
    "\n",
    "xx, yy = G[u]\n",
    "plt.plot(xx, yy, label='g(u)')\n",
    "xx, yy = G[v]\n",
    "plt.plot(xx, yy, label='g(v)')\n",
    "plt.legend()"
   ]
  },
  {
   "cell_type": "markdown",
   "metadata": {},
   "source": [
    "We find that neighbor agents have very similar distributions. In conclusion, they can exchange information to better learn their models."
   ]
  },
  {
   "cell_type": "code",
   "execution_count": 168,
   "metadata": {},
   "outputs": [
    {
     "data": {
      "image/png": "[encoded data removed]",
      "text/plain": [
       "<matplotlib.figure.Figure at 0x1e69a77c550>"
      ]
     },
     "metadata": {},
     "output_type": "display_data"
    }
   ],
   "source": [
    "xx = np.linspace(0, 1, nsamples)\n",
    "invcdfs = [icdf.InvCdf(nsamples, np.interp(xx, G[k][0], G[k][1])) for k in range(npeers)]\n",
    "\n",
    "plt.plot(invcdfs[j].qs, invcdfs[j].invcdf, label='distribution1')\n",
    "plt.plot(invcdfs[i].qs, invcdfs[i].invcdf, label='distribution2')\n",
    "plt.legend()\n",
    "\n",
    "# Stack agents in a list\n",
    "agents = [anet.Agent(npeers, k, invcdfs[k]) for k in range(npeers)]\n",
    "\n",
    "# Confidence of 1 in every model\n",
    "C = np.ones(npeers)"
   ]
  },
  {
   "cell_type": "code",
   "execution_count": 169,
   "metadata": {},
   "outputs": [
    {
     "name": "stderr",
     "output_type": "stream",
     "text": [
      "No handles with labels found to put in legend.\n"
     ]
    },
    {
     "data": {
      "text/plain": [
       "Text(0.5,1,'Propagated cdfs')"
      ]
     },
     "execution_count": 169,
     "metadata": {},
     "output_type": "execute_result"
    },
    {
     "data": {
      "image/png": "[encoded data removed]",
      "text/plain": [
       "<matplotlib.figure.Figure at 0x1e69a36bfd0>"
      ]
     },
     "metadata": {},
     "output_type": "display_data"
    }
   ],
   "source": [
    "# Build network\n",
    "network = anet.AgentNetwork(W, C, agents, mu=15)\n",
    "# Run asynchronous gossip algorithm\n",
    "network.iterate_async_gossip(1000)\n",
    "# Update finale model for each agents\n",
    "network.update_invcdf_models()\n",
    "# On les stocke dans une list\n",
    "invcdfs = [network.agents[k].invcdf_model for k in range(0, npeers)]\n",
    "# Fill the cdf from those models for each agent\n",
    "for invcdf in invcdfs:\n",
    "    invcdf.fill_cdf(start=0, stop=8, nsamples_cdf=1000)\n",
    "    \n",
    "invcdfs = [network.agents[i].invcdf_model for i in range(0, npeers)]# Plot propagated cdfs\n",
    "plt.figure()\n",
    "for k in range(0, npeers):\n",
    "    plt.plot(invcdfs[k].ts, invcdfs[k].cdf)#, label=k)\n",
    "plt.legend()\n",
    "plt.title(\"Propagated cdfs\")"
   ]
  },
  {
   "cell_type": "code",
   "execution_count": 170,
   "metadata": {},
   "outputs": [
    {
     "name": "stdout",
     "output_type": "stream",
     "text": [
      "previous error : 2.8117881527926882 , new error: 2.8125511371736294\n",
      "Diminution relative de l erreur: -0.00027127840303300846\n"
     ]
    }
   ],
   "source": [
    "Previous_error, New_error = [], []\n",
    "\n",
    "for k in range(npeers):\n",
    "    tt = invcdfs[k].ts\n",
    "    if y[k]==1:\n",
    "        F = ss.poisson.cdf(tt, mu=np.linalg.norm(X[k]))\n",
    "        #F = ss.norm.cdf(tt, loc=np.linalg.norm(X[k]))\n",
    "    else : \n",
    "        #F = ss.expon.cdf(tt, loc=np.linalg.norm(X[k]))\n",
    "        F = ss.poisson.cdf(tt, mu=np.linalg.norm(X[k]))\n",
    "    Previous_error.append(np.linalg.norm(F-np.interp(tt,G[k][1],G[k][0]))) # ce qu'on a en entrée\n",
    "    New_error.append(np.linalg.norm(F-invcdfs[k].cdf))\n",
    "\n",
    "print('previous error :', np.mean(Previous_error), ', new error:', np.mean(New_error))\n",
    "print('Diminution relative de l erreur:', (np.mean(Previous_error)-np.mean(New_error))/np.mean(New_error))"
   ]
  }
 ],
 "metadata": {
  "kernelspec": {
   "display_name": "Python 3",
   "language": "python",
   "name": "python3"
  },
  "language_info": {
   "codemirror_mode": {
    "name": "ipython",
    "version": 3
   },
   "file_extension": ".py",
   "mimetype": "text/x-python",
   "name": "python",
   "nbconvert_exporter": "python",
   "pygments_lexer": "ipython3",
   "version": "3.6.4"
  }
 },
 "nbformat": 4,
 "nbformat_minor": 2
}
