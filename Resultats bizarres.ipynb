{
 "cells": [
  {
   "cell_type": "code",
   "execution_count": 1,
   "metadata": {},
   "outputs": [],
   "source": [
    "import numpy as np\n",
    "import matplotlib.pyplot as plt\n",
    "import scipy.stats as ss\n",
    "import bisect\n",
    "from scipy import spatial\n",
    "\n",
    "import inv_cdfs as icdf\n",
    "import agents_network as anet"
   ]
  },
  {
   "cell_type": "markdown",
   "metadata": {},
   "source": [
    "We start by creating $n$ agents which are in $\\mathbb{R}^p$. These agents are split in two groups, some of them are labelled $y=1$ and others $y=2$."
   ]
  },
  {
   "cell_type": "code",
   "execution_count": 2,
   "metadata": {},
   "outputs": [],
   "source": [
    "npeers, p = 4, 2 # number of agents, dimension\n",
    "n1 = int(3*npeers/4)\n",
    "n2 = npeers-n1\n",
    "t, R = 2*np.pi*np.random.randn(n1,1), 3\n",
    "r = R*(1.5 + .2*np.random.randn(n1,1)) # radius\n",
    "X1 = np.hstack((np.cos(t)*r, np.sin(t)*r));\n",
    "X = np.vstack((X1, np.random.randn(n2,2)))\n",
    "y = np.vstack(( np.ones([n1,1]), 2*np.ones([n2,1]) ))"
   ]
  },
  {
   "cell_type": "markdown",
   "metadata": {},
   "source": [
    "We plot the agents. Those in blue are labelled $y=1$ and in orange are labelled $y=2$."
   ]
  },
  {
   "cell_type": "code",
   "execution_count": 3,
   "metadata": {},
   "outputs": [
    {
     "data": {
      "text/plain": [
       "(-3.5816398833398995,\n",
       " 0.9574959437233828,\n",
       " -4.210658127821856,\n",
       " 4.404646868830241)"
      ]
     },
     "execution_count": 3,
     "metadata": {},
     "output_type": "execute_result"
    },
    {
     "data": {
      "image/png": "[encoded data removed]",
      "text/plain": [
       "<Figure size 432x288 with 1 Axes>"
      ]
     },
     "metadata": {},
     "output_type": "display_data"
    }
   ],
   "source": [
    "I = np.nonzero(y==1)[0]\n",
    "J = np.nonzero(y==2)[0]\n",
    "plt.plot(X[I,0], X[I,1], '.')\n",
    "plt.plot(X[J,0], X[J,1], '.')\n",
    "plt.axis('equal')\n",
    "plt.axis('off')"
   ]
  },
  {
   "cell_type": "markdown",
   "metadata": {},
   "source": [
    "The following function generate specific datas for each agent. Depending on their labelled and $\\|x\\|_2$, each agent received data from different distributions."
   ]
  },
  {
   "cell_type": "code",
   "execution_count": 4,
   "metadata": {},
   "outputs": [],
   "source": [
    "def create_data(x, y ,nsamples=1000):\n",
    "    if y==1:\n",
    "        data = np.random.poisson(np.linalg.norm(x), nsamples)\n",
    "    elif y==2:\n",
    "        data = ss.expon.rvs(np.linalg.norm(x), size=nsamples)\n",
    "    else:\n",
    "        print(\"choose y in {1,2}\")\n",
    "    return data"
   ]
  },
  {
   "cell_type": "markdown",
   "metadata": {},
   "source": [
    "We define DATA to be list of data received by each agent. Then, we plot two examples :"
   ]
  },
  {
   "cell_type": "code",
   "execution_count": 5,
   "metadata": {},
   "outputs": [
    {
     "name": "stdout",
     "output_type": "stream",
     "text": [
      "i= 0 et j= 3\n",
      "data for an element of I :  [8 5 2 1 3 2 5 4 5 1]\n",
      "data for an element of J :  [1.87578727 4.75786714 3.33007506 1.72585975 1.84083422 2.96682523\n",
      " 1.88914433 2.21801993 1.64169316 2.1838014 ]\n"
     ]
    }
   ],
   "source": [
    "nsamples = 4000 # number of data for each agent\n",
    "DATA = [create_data(X[k], y[k], nsamples=nsamples) for k in range(npeers)]\n",
    "\n",
    "i, j = np.random.choice(I), np.random.choice(J)\n",
    "print('i=', i, 'et j=', j)\n",
    "print('data for an element of I : ', DATA[i][:10])\n",
    "print('data for an element of J : ', DATA[j][:10])"
   ]
  },
  {
   "cell_type": "markdown",
   "metadata": {},
   "source": [
    "We build the similarity matrix."
   ]
  },
  {
   "cell_type": "code",
   "execution_count": 6,
   "metadata": {},
   "outputs": [],
   "source": [
    "def distmat(X, Z):\n",
    "    return spatial.distance.cdist(X,Z)**2\n",
    "\n",
    "def Similarities(X,sigma):\n",
    "    similarities = np.exp( -distmat(X,X)/(2*sigma**2) )\n",
    "    np.fill_diagonal(similarities, 0)\n",
    "    return similarities"
   ]
  },
  {
   "cell_type": "markdown",
   "metadata": {},
   "source": [
    "We look the similarity matrix thanks to the functions defines above."
   ]
  },
  {
   "cell_type": "code",
   "execution_count": 7,
   "metadata": {},
   "outputs": [
    {
     "data": {
      "text/plain": [
       "<matplotlib.image.AxesImage at 0x7efd4157e9e8>"
      ]
     },
     "execution_count": 7,
     "metadata": {},
     "output_type": "execute_result"
    },
    {
     "data": {
      "image/png": "[encoded data removed]",
      "text/plain": [
       "<Figure size 432x288 with 1 Axes>"
      ]
     },
     "metadata": {},
     "output_type": "display_data"
    }
   ],
   "source": [
    "sigma = 1\n",
    "W = Similarities(X,sigma)\n",
    "plt.imshow(W)"
   ]
  },
  {
   "cell_type": "markdown",
   "metadata": {},
   "source": [
    "Now, we define two methods to calculate density functions from datas :"
   ]
  },
  {
   "cell_type": "code",
   "execution_count": 8,
   "metadata": {},
   "outputs": [],
   "source": [
    "def methode_Noyau(data, K=ss.norm.pdf):\n",
    "    nsamples = len(data)\n",
    "    sigma = data.std()\n",
    "    h = sigma/nsamples**(0.2) # thumb rule\n",
    "    densite = lambda y : np.sum([K((y-x)/h) for x in data])/(nsamples*h)\n",
    "    return densite\n",
    "\n",
    "def methode_MC(data):\n",
    "    ensemble_des_valeurs, Nb_occurences = np.unique(data, return_counts=True)\n",
    "    prob =  Nb_occurences/np.sum(Nb_occurences)\n",
    "    return ensemble_des_valeurs, prob"
   ]
  },
  {
   "cell_type": "markdown",
   "metadata": {},
   "source": [
    "We plot the density got from an agent labelled $y=1$."
   ]
  },
  {
   "cell_type": "code",
   "execution_count": 9,
   "metadata": {},
   "outputs": [
    {
     "data": {
      "text/plain": [
       "<matplotlib.legend.Legend at 0x7efd414f38d0>"
      ]
     },
     "execution_count": 9,
     "metadata": {},
     "output_type": "execute_result"
    },
    {
     "data": {
      "image/png": "[encoded data removed]",
      "text/plain": [
       "<Figure size 432x288 with 1 Axes>"
      ]
     },
     "metadata": {},
     "output_type": "display_data"
    }
   ],
   "source": [
    "data = DATA[i]\n",
    "ensemble_des_valeurs, prob = methode_MC(data)\n",
    "plt.scatter(ensemble_des_valeurs, prob, label='Model of distribution')\n",
    "plt.scatter(ensemble_des_valeurs, ss.poisson.pmf(ensemble_des_valeurs,np.linalg.norm(X[i])), label='True')\n",
    "plt.legend()"
   ]
  },
  {
   "cell_type": "markdown",
   "metadata": {},
   "source": [
    "We plot the density got from an agent labelled $y=2$."
   ]
  },
  {
   "cell_type": "code",
   "execution_count": 10,
   "metadata": {},
   "outputs": [
    {
     "data": {
      "text/plain": [
       "<matplotlib.legend.Legend at 0x7efd4146d128>"
      ]
     },
     "execution_count": 10,
     "metadata": {},
     "output_type": "execute_result"
    },
    {
     "data": {
      "image/png": "[encoded data removed]",
      "text/plain": [
       "<Figure size 432x288 with 1 Axes>"
      ]
     },
     "metadata": {},
     "output_type": "display_data"
    }
   ],
   "source": [
    "data = DATA[j]\n",
    "densite = methode_Noyau(data)\n",
    "tt = np.linspace(np.min(data), np.max(data), 30)\n",
    "plt.plot(tt, [densite(t) for t in tt], label='Model of distribution')\n",
    "plt.plot(tt, ss.expon.pdf(tt,np.linalg.norm(X[j])), label='True')\n",
    "plt.legend()"
   ]
  },
  {
   "cell_type": "markdown",
   "metadata": {},
   "source": [
    "Once we have the densities, we need the functions $g_s(v)$. Firstly, we define the cumulative empirical function $F$, and then $g$ represents its inverse. "
   ]
  },
  {
   "cell_type": "code",
   "execution_count": 11,
   "metadata": {},
   "outputs": [],
   "source": [
    "def F(data):\n",
    "    nsamples = len(data)\n",
    "    data_sorted = np.sort(data)\n",
    "    return lambda t : bisect.bisect(data_sorted,t)/nsamples\n",
    "\n",
    "def g(data):\n",
    "    nsamples = len(data)\n",
    "    ensemble_des_valeurs, Nb_occurences = np.unique(data, return_counts=True)\n",
    "    prob_cum = np.cumsum(Nb_occurences)/nsamples\n",
    "    return prob_cum, ensemble_des_valeurs"
   ]
  },
  {
   "cell_type": "markdown",
   "metadata": {},
   "source": [
    "For $u,v$ two neighbors, we plot $g_s(u)$ and $g_s(v)$ :"
   ]
  },
  {
   "cell_type": "code",
   "execution_count": 12,
   "metadata": {},
   "outputs": [
    {
     "data": {
      "text/plain": [
       "<matplotlib.legend.Legend at 0x7efd414af4e0>"
      ]
     },
     "execution_count": 12,
     "metadata": {},
     "output_type": "execute_result"
    },
    {
     "data": {
      "image/png": "[encoded data removed]",
      "text/plain": [
       "<Figure size 432x288 with 1 Axes>"
      ]
     },
     "metadata": {},
     "output_type": "display_data"
    }
   ],
   "source": [
    "G = [g(data) for data in DATA]\n",
    "u = np.random.randint(npeers)\n",
    "v = np.argmax(W[u])\n",
    "\n",
    "xx, yy = G[u]\n",
    "plt.plot(xx, yy, label='g(u)')\n",
    "xx, yy = G[v]\n",
    "plt.plot(xx, yy, label='g(v)')\n",
    "plt.legend()"
   ]
  },
  {
   "cell_type": "markdown",
   "metadata": {},
   "source": [
    "We find that neighbor agents have very similar distributions. In conclusion, they can exchange information to better learn their models."
   ]
  },
  {
   "cell_type": "code",
   "execution_count": 26,
   "metadata": {},
   "outputs": [],
   "source": [
    "xx = np.linspace(0, 1, nsamples)\n",
    "# invcdf = [icdf.InvCdf(nsamples_icdf=nsamples) for k in range(npeers)]\n",
    "invcdf = [icdf.InvCdf(nsamples, np.interp(xx, G[k][0], G[k][1])) for k in range(npeers)]\n",
    "# for i in range(0, len(invcdf)):\n",
    "#     invcdf[i].fill_from_data(DATA[i])\n",
    "\n",
    "# Stack agents in a list\n",
    "agents = [anet.Agent(npeers, k, invcdf[k]) for k in range(npeers)]"
   ]
  },
  {
   "cell_type": "code",
   "execution_count": 27,
   "metadata": {},
   "outputs": [],
   "source": [
    "# Confidence of 1 in every model\n",
    "C = np.ones(npeers)\n",
    "\n",
    "# Build network\n",
    "network = anet.AgentNetwork(W, C, agents, mu=1)"
   ]
  },
  {
   "cell_type": "code",
   "execution_count": 28,
   "metadata": {},
   "outputs": [],
   "source": [
    "# Run asynchronous gossip algorithm\n",
    "network.iterate_async_gossip(0)\n",
    "# Update finale model for each agents\n",
    "network.update_invcdf_models()\n",
    "# Une fois que cela est fait, pour chaque agent la seule chose qui nous interesse \n",
    "# Est l'attribut \"invcdf_model\" qui contient un objet InvCdf qui contient la fonction de répartition inverse\n",
    "# de la distribution apprise par l'agent\n",
    "# On les stocke dans une list\n",
    "invcdfs = [network.agents[i].invcdf_model for i in range(0, npeers)]\n",
    "# Fill the cdf from those models for each agent\n",
    "for invcdf in invcdfs:\n",
    "    # WARNING : Il faut adapter start et stop à ta distribution (c'est la fenetre ou tu prend la cdf)\n",
    "    invcdf.fill_cdf(start=-1, stop=10, nsamples_cdf=10000)"
   ]
  },
  {
   "cell_type": "code",
   "execution_count": 29,
   "metadata": {},
   "outputs": [
    {
     "data": {
      "text/plain": [
       "Text(0.5, 1.0, 'Propagated cdfs')"
      ]
     },
     "execution_count": 29,
     "metadata": {},
     "output_type": "execute_result"
    },
    {
     "data": {
      "image/png": "[encoded data removed]",
      "text/plain": [
       "<Figure size 432x288 with 1 Axes>"
      ]
     },
     "metadata": {},
     "output_type": "display_data"
    }
   ],
   "source": [
    "invcdfs = [network.agents[i].invcdf_model for i in range(0, npeers)]# Plot propagated cdfs\n",
    "plt.figure()\n",
    "for i in range(0, npeers):\n",
    "    plt.plot(invcdfs[i].ts, invcdfs[i].cdf, label=i)\n",
    "plt.legend()\n",
    "plt.title(\"Propagated cdfs\")"
   ]
  },
  {
   "cell_type": "code",
   "execution_count": null,
   "metadata": {},
   "outputs": [],
   "source": []
  }
 ],
 "metadata": {
  "kernelspec": {
   "display_name": "Python 3",
   "language": "python",
   "name": "python3"
  },
  "language_info": {
   "codemirror_mode": {
    "name": "ipython",
    "version": 3
   },
   "file_extension": ".py",
   "mimetype": "text/x-python",
   "name": "python",
   "nbconvert_exporter": "python",
   "pygments_lexer": "ipython3",
   "version": "3.6.7"
  }
 },
 "nbformat": 4,
 "nbformat_minor": 2
}
